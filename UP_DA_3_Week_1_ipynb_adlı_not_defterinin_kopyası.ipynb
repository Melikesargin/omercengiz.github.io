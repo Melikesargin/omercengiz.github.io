{
  "nbformat": 4,
  "nbformat_minor": 0,
  "metadata": {
    "colab": {
      "provenance": []
    },
    "kernelspec": {
      "name": "python3",
      "display_name": "Python 3"
    },
    "language_info": {
      "name": "python"
    }
  },
  "cells": [
    {
      "cell_type": "code",
      "execution_count": null,
      "metadata": {
        "colab": {
          "base_uri": "https://localhost:8080/"
        },
        "id": "PI5I8r4kUhxX",
        "outputId": "c1daeb0a-2e01-4cf1-b082-d20e68d28979"
      },
      "outputs": [
        {
          "output_type": "stream",
          "name": "stdout",
          "text": [
            "60\n"
          ]
        }
      ],
      "source": [
        "# QUESTION 0\n",
        "# A bag can contain 5 items and there are 12 full bags.\n",
        "# Task 1: Calculate how many items we have\n",
        "print(5*12)"
      ]
    },
    {
      "cell_type": "code",
      "source": [
        "# Task 2: If we want to store our items in different bags which can carry 7 items. \n",
        "# How many items cannot fit the bags?\n",
        "print(60%7)"
      ],
      "metadata": {
        "colab": {
          "base_uri": "https://localhost:8080/"
        },
        "id": "XxDaYJLkZB6S",
        "outputId": "04d1c04b-1d6a-4da1-afb1-0e7b99e94c0f"
      },
      "execution_count": null,
      "outputs": [
        {
          "output_type": "stream",
          "name": "stdout",
          "text": [
            "4\n"
          ]
        }
      ]
    },
    {
      "cell_type": "code",
      "source": [
        "a = 2\n",
        "b = 1.2\n",
        "c = \"tuna\"\n",
        "print(c)\n",
        "print(a*c)\n",
        "a*b"
      ],
      "metadata": {
        "colab": {
          "base_uri": "https://localhost:8080/"
        },
        "id": "rVPXzO9cZzA-",
        "outputId": "9d50318e-4e5a-449d-b1f2-58884f36b6ba"
      },
      "execution_count": null,
      "outputs": [
        {
          "output_type": "stream",
          "name": "stdout",
          "text": [
            "tuna\n",
            "tunatuna\n"
          ]
        },
        {
          "output_type": "execute_result",
          "data": {
            "text/plain": [
              "2.4"
            ]
          },
          "metadata": {},
          "execution_count": 12
        }
      ]
    },
    {
      "cell_type": "code",
      "source": [
        "# QUESTION 1\n",
        "# Create a variable called \"var1\" by calculating the square of 25, \n",
        "var1 = 25**2\n",
        "print(var1)\n",
        "# and create a variable called \"var2\" by calculating 3452 dividing by 1.6\n",
        "var2 = 3452/1.6\n",
        "print(var2)\n",
        "# Task: Print types of each variable and print the comparison of these two typesp\n",
        "print(\"Type of var1:\", type(var1))\n",
        "print(\"Type of var2:\", type(var2))\n"
      ],
      "metadata": {
        "colab": {
          "base_uri": "https://localhost:8080/"
        },
        "id": "NklTu-cdZltl",
        "outputId": "bd62ed94-1892-4d6c-8166-3eb9755cd2d7"
      },
      "execution_count": null,
      "outputs": [
        {
          "output_type": "stream",
          "name": "stdout",
          "text": [
            "625\n",
            "2157.5\n",
            "Type of var1: <class 'int'>\n",
            "Type of var2: <class 'float'>\n"
          ]
        }
      ]
    },
    {
      "cell_type": "code",
      "source": [
        "print(\"Var1: {} , Var2: {}\".format(type(var1), type(var2)))"
      ],
      "metadata": {
        "colab": {
          "base_uri": "https://localhost:8080/"
        },
        "id": "J3QqQ8rycuFf",
        "outputId": "bf669c08-e2d3-4b5b-a27c-842910ff20d9"
      },
      "execution_count": null,
      "outputs": [
        {
          "output_type": "stream",
          "name": "stdout",
          "text": [
            "Var1: <class 'int'> , Var2: <class 'float'>\n"
          ]
        }
      ]
    },
    {
      "cell_type": "code",
      "source": [
        "print(type(var1) == type(var2))"
      ],
      "metadata": {
        "colab": {
          "base_uri": "https://localhost:8080/"
        },
        "id": "wxPAZJnXdZWP",
        "outputId": "2423c19d-467e-4c6a-ee5d-62d2c2d34376"
      },
      "execution_count": null,
      "outputs": [
        {
          "output_type": "stream",
          "name": "stdout",
          "text": [
            "False\n"
          ]
        }
      ]
    },
    {
      "cell_type": "code",
      "source": [
        "print(type(var1) == type(a))"
      ],
      "metadata": {
        "colab": {
          "base_uri": "https://localhost:8080/"
        },
        "id": "C0iPDwq8duRS",
        "outputId": "522c364d-fb49-42ec-ec0a-18e761a0e1fc"
      },
      "execution_count": null,
      "outputs": [
        {
          "output_type": "stream",
          "name": "stdout",
          "text": [
            "True\n"
          ]
        }
      ]
    },
    {
      "cell_type": "code",
      "source": [
        "5 == 5"
      ],
      "metadata": {
        "colab": {
          "base_uri": "https://localhost:8080/"
        },
        "id": "ipRhkEJdd8M-",
        "outputId": "f11520da-52ea-40ea-80b9-2fb3e712eb62"
      },
      "execution_count": null,
      "outputs": [
        {
          "output_type": "execute_result",
          "data": {
            "text/plain": [
              "True"
            ]
          },
          "metadata": {},
          "execution_count": 18
        }
      ]
    },
    {
      "cell_type": "code",
      "source": [
        "# QUESTION 2\n",
        "\n",
        "# By using the given \"words\" list, print(\"Data Science 1 Week 2\")\n",
        "words = [2, 1, \"Data\", \"Science\", \"Week\"]\n",
        "words"
      ],
      "metadata": {
        "colab": {
          "base_uri": "https://localhost:8080/"
        },
        "id": "LXDWWdvGeB7h",
        "outputId": "3d9744f7-8f71-40d3-d6cd-40e8145bf54f"
      },
      "execution_count": null,
      "outputs": [
        {
          "output_type": "execute_result",
          "data": {
            "text/plain": [
              "[2, 1, 'Data', 'Science', 'Week']"
            ]
          },
          "metadata": {},
          "execution_count": 19
        }
      ]
    },
    {
      "cell_type": "code",
      "source": [
        "words[1:5]"
      ],
      "metadata": {
        "colab": {
          "base_uri": "https://localhost:8080/"
        },
        "id": "koDjIdJiesLJ",
        "outputId": "3b85c4a1-6de2-4b01-ef7e-ea7f3d0590d4"
      },
      "execution_count": null,
      "outputs": [
        {
          "output_type": "execute_result",
          "data": {
            "text/plain": [
              "[1, 'Data', 'Science', 'Week']"
            ]
          },
          "metadata": {},
          "execution_count": 26
        }
      ]
    },
    {
      "cell_type": "code",
      "source": [
        "len(words)"
      ],
      "metadata": {
        "colab": {
          "base_uri": "https://localhost:8080/"
        },
        "id": "jQjRlC3fffSo",
        "outputId": "c5c6ddb4-341a-460b-8d35-a8eb019372cf"
      },
      "execution_count": null,
      "outputs": [
        {
          "output_type": "execute_result",
          "data": {
            "text/plain": [
              "5"
            ]
          },
          "metadata": {},
          "execution_count": 27
        }
      ]
    },
    {
      "cell_type": "code",
      "source": [
        "words[-2]"
      ],
      "metadata": {
        "colab": {
          "base_uri": "https://localhost:8080/",
          "height": 35
        },
        "id": "EeFzxC8Egkli",
        "outputId": "9e30f2e3-8058-4eb5-abc1-50374c5dc083"
      },
      "execution_count": null,
      "outputs": [
        {
          "output_type": "execute_result",
          "data": {
            "text/plain": [
              "'Science'"
            ],
            "application/vnd.google.colaboratory.intrinsic+json": {
              "type": "string"
            }
          },
          "metadata": {},
          "execution_count": 35
        }
      ]
    },
    {
      "cell_type": "code",
      "source": [
        "words[1:5:3]"
      ],
      "metadata": {
        "colab": {
          "base_uri": "https://localhost:8080/"
        },
        "id": "1lK6cOy-fq2g",
        "outputId": "962a85fb-9c6d-4b18-d2dd-76528a0b2628"
      },
      "execution_count": null,
      "outputs": [
        {
          "output_type": "execute_result",
          "data": {
            "text/plain": [
              "[1, 'Week']"
            ]
          },
          "metadata": {},
          "execution_count": 29
        }
      ]
    },
    {
      "cell_type": "code",
      "source": [
        "words[2],words[4]"
      ],
      "metadata": {
        "colab": {
          "base_uri": "https://localhost:8080/"
        },
        "id": "nO90mVZCgEfB",
        "outputId": "bef19d55-54c9-4b61-bb71-a0bb684cd226"
      },
      "execution_count": null,
      "outputs": [
        {
          "output_type": "execute_result",
          "data": {
            "text/plain": [
              "('Data', 'Week')"
            ]
          },
          "metadata": {},
          "execution_count": 39
        }
      ]
    },
    {
      "cell_type": "code",
      "source": [
        "aaa = [words[2],words[-1]]\n",
        "aaa"
      ],
      "metadata": {
        "colab": {
          "base_uri": "https://localhost:8080/"
        },
        "id": "5-ORfCiVgLtw",
        "outputId": "b0febac3-966d-411b-f548-b2984084c552"
      },
      "execution_count": null,
      "outputs": [
        {
          "output_type": "execute_result",
          "data": {
            "text/plain": [
              "['Data', 'Week']"
            ]
          },
          "metadata": {},
          "execution_count": 34
        }
      ]
    },
    {
      "cell_type": "code",
      "source": [
        "len(words)"
      ],
      "metadata": {
        "colab": {
          "base_uri": "https://localhost:8080/"
        },
        "id": "tEgt6U7kgvdu",
        "outputId": "23fc547d-95ad-4131-f7a7-7c9cc5538ac6"
      },
      "execution_count": null,
      "outputs": [
        {
          "output_type": "execute_result",
          "data": {
            "text/plain": [
              "5"
            ]
          },
          "metadata": {},
          "execution_count": 36
        }
      ]
    },
    {
      "cell_type": "code",
      "source": [
        "words[int(len(words)/2)]"
      ],
      "metadata": {
        "colab": {
          "base_uri": "https://localhost:8080/",
          "height": 35
        },
        "id": "gYKtL4nSg4z3",
        "outputId": "aaa7a559-2e95-46ba-a678-60f7ed381471"
      },
      "execution_count": null,
      "outputs": [
        {
          "output_type": "execute_result",
          "data": {
            "text/plain": [
              "'Data'"
            ],
            "application/vnd.google.colaboratory.intrinsic+json": {
              "type": "string"
            }
          },
          "metadata": {},
          "execution_count": 41
        }
      ]
    },
    {
      "cell_type": "code",
      "source": [
        "# QUESTION 3\n",
        "\n",
        "# compute given expression below by using values x,y and assign the result to variable \"out\"\n",
        "# EXPRESSION: x^3 + 5xy + 1 - y^2\n",
        "x = 1.5\n",
        "y = 10\n",
        "\n",
        "out = x**3 + 5*x*y + 1 - y**2\n",
        "out"
      ],
      "metadata": {
        "colab": {
          "base_uri": "https://localhost:8080/"
        },
        "id": "xDS1X8kxhhjh",
        "outputId": "01f16eb3-802a-4f16-d94d-5811a0c22337"
      },
      "execution_count": null,
      "outputs": [
        {
          "output_type": "execute_result",
          "data": {
            "text/plain": [
              "-20.625"
            ]
          },
          "metadata": {},
          "execution_count": 42
        }
      ]
    },
    {
      "cell_type": "code",
      "source": [
        "num1 = float(input(\"Please enter a value:\"))"
      ],
      "metadata": {
        "colab": {
          "base_uri": "https://localhost:8080/"
        },
        "id": "wBtN6xtdiOi-",
        "outputId": "84937b19-e9b5-4b23-e90a-9b1350e5e185"
      },
      "execution_count": null,
      "outputs": [
        {
          "name": "stdout",
          "output_type": "stream",
          "text": [
            "Please enter a value:3.5\n"
          ]
        }
      ]
    },
    {
      "cell_type": "code",
      "source": [
        "num2 = input(\"Please enter a value:\")\n",
        "num2 = float(num2)\n",
        "num2"
      ],
      "metadata": {
        "colab": {
          "base_uri": "https://localhost:8080/"
        },
        "id": "x6R60lxKiq4o",
        "outputId": "3376c25a-e9cf-4d51-96f8-71eee677707d"
      },
      "execution_count": null,
      "outputs": [
        {
          "name": "stdout",
          "output_type": "stream",
          "text": [
            "Please enter a value:5.3\n"
          ]
        },
        {
          "output_type": "execute_result",
          "data": {
            "text/plain": [
              "5.3"
            ]
          },
          "metadata": {},
          "execution_count": 54
        }
      ]
    },
    {
      "cell_type": "code",
      "source": [
        "type(num1)"
      ],
      "metadata": {
        "colab": {
          "base_uri": "https://localhost:8080/"
        },
        "id": "3Ig0-enHiX7L",
        "outputId": "d70e5355-4043-451b-dd7f-d3f2b95b97b2"
      },
      "execution_count": null,
      "outputs": [
        {
          "output_type": "execute_result",
          "data": {
            "text/plain": [
              "float"
            ]
          },
          "metadata": {},
          "execution_count": 55
        }
      ]
    },
    {
      "cell_type": "code",
      "source": [
        "sentence = \"I love this DA-3 program .\"\n",
        "sentence"
      ],
      "metadata": {
        "colab": {
          "base_uri": "https://localhost:8080/",
          "height": 35
        },
        "id": "1tbNAnWemX5c",
        "outputId": "6ff92c3c-1a55-4f74-d947-624d9e6ae96a"
      },
      "execution_count": null,
      "outputs": [
        {
          "output_type": "execute_result",
          "data": {
            "text/plain": [
              "'I love this DA-3 program .'"
            ],
            "application/vnd.google.colaboratory.intrinsic+json": {
              "type": "string"
            }
          },
          "metadata": {},
          "execution_count": 65
        }
      ]
    },
    {
      "cell_type": "code",
      "source": [
        "sentence[2:6]"
      ],
      "metadata": {
        "colab": {
          "base_uri": "https://localhost:8080/",
          "height": 35
        },
        "id": "dSfko_EwmqRT",
        "outputId": "6c3c3871-4ac3-480f-8039-ba2df0c2e8f9"
      },
      "execution_count": null,
      "outputs": [
        {
          "output_type": "execute_result",
          "data": {
            "text/plain": [
              "'love'"
            ],
            "application/vnd.google.colaboratory.intrinsic+json": {
              "type": "string"
            }
          },
          "metadata": {},
          "execution_count": 66
        }
      ]
    },
    {
      "cell_type": "code",
      "source": [
        "s_list = sentence.split()"
      ],
      "metadata": {
        "id": "AmKkoDZwm77G"
      },
      "execution_count": null,
      "outputs": []
    },
    {
      "cell_type": "code",
      "source": [
        "s_list"
      ],
      "metadata": {
        "colab": {
          "base_uri": "https://localhost:8080/"
        },
        "id": "0tNREgQAnSDn",
        "outputId": "cb5f999b-3569-46db-a72f-b710c3ad6415"
      },
      "execution_count": null,
      "outputs": [
        {
          "output_type": "execute_result",
          "data": {
            "text/plain": [
              "['I', 'love', 'this', 'DA-3', 'program', '.']"
            ]
          },
          "metadata": {},
          "execution_count": 68
        }
      ]
    },
    {
      "cell_type": "code",
      "source": [
        "s_list[1]"
      ],
      "metadata": {
        "colab": {
          "base_uri": "https://localhost:8080/",
          "height": 35
        },
        "id": "v_QMb4gWnYTr",
        "outputId": "5904e536-f63e-4e31-e159-e484ccff3d2b"
      },
      "execution_count": null,
      "outputs": [
        {
          "output_type": "execute_result",
          "data": {
            "text/plain": [
              "'love'"
            ],
            "application/vnd.google.colaboratory.intrinsic+json": {
              "type": "string"
            }
          },
          "metadata": {},
          "execution_count": 69
        }
      ]
    },
    {
      "cell_type": "code",
      "source": [
        "len(s_list)"
      ],
      "metadata": {
        "colab": {
          "base_uri": "https://localhost:8080/"
        },
        "id": "lxhqDWB3ndVt",
        "outputId": "9120d0b5-c207-4643-8c0f-d2ad698796b7"
      },
      "execution_count": null,
      "outputs": [
        {
          "output_type": "execute_result",
          "data": {
            "text/plain": [
              "6"
            ]
          },
          "metadata": {},
          "execution_count": 70
        }
      ]
    },
    {
      "cell_type": "code",
      "source": [
        "# QUESTION 6\n",
        "\n",
        "# Print summer months by slicing given list \"months\"\n",
        "months = [\"January\",\"February\",\"March\",\"April\",\"May\",\"June\",\"July\",\"August\",\"September\",\"October\",\"November\",\"December\"]\n",
        "print(months[5:8])"
      ],
      "metadata": {
        "colab": {
          "base_uri": "https://localhost:8080/"
        },
        "id": "nMCiBTDFogEV",
        "outputId": "15cc67c2-70f8-4ece-b795-51afc131915f"
      },
      "execution_count": null,
      "outputs": [
        {
          "output_type": "stream",
          "name": "stdout",
          "text": [
            "['June', 'July', 'August']\n"
          ]
        }
      ]
    },
    {
      "cell_type": "code",
      "source": [
        "\"-\".join(months[5:8])"
      ],
      "metadata": {
        "colab": {
          "base_uri": "https://localhost:8080/",
          "height": 35
        },
        "id": "o4p0yLwwowVf",
        "outputId": "4279c87a-8a9f-4962-f274-0220d2672827"
      },
      "execution_count": null,
      "outputs": [
        {
          "output_type": "execute_result",
          "data": {
            "text/plain": [
              "'June-July-August'"
            ],
            "application/vnd.google.colaboratory.intrinsic+json": {
              "type": "string"
            }
          },
          "metadata": {},
          "execution_count": 72
        }
      ]
    },
    {
      "cell_type": "code",
      "source": [
        "# QUESTION 7\n",
        "# Print last three months in the same line and add \"-\" between elements\n",
        "print(\"-\".join(months[9:]))\n",
        "\"-\".join(months[-5:])"
      ],
      "metadata": {
        "colab": {
          "base_uri": "https://localhost:8080/",
          "height": 52
        },
        "id": "HqWlcPDLo82j",
        "outputId": "54bb39f9-9212-438e-be00-cd5e64570be0"
      },
      "execution_count": null,
      "outputs": [
        {
          "output_type": "stream",
          "name": "stdout",
          "text": [
            "October-November-December\n"
          ]
        },
        {
          "output_type": "execute_result",
          "data": {
            "text/plain": [
              "'August-September-October-November-December'"
            ],
            "application/vnd.google.colaboratory.intrinsic+json": {
              "type": "string"
            }
          },
          "metadata": {},
          "execution_count": 77
        }
      ]
    },
    {
      "cell_type": "code",
      "source": [
        "\"-\".join(months[-1::-2])"
      ],
      "metadata": {
        "colab": {
          "base_uri": "https://localhost:8080/",
          "height": 35
        },
        "id": "2OYJ4jwbp7XM",
        "outputId": "68df17a2-e23f-488e-e0a2-531fcf8578d1"
      },
      "execution_count": null,
      "outputs": [
        {
          "output_type": "execute_result",
          "data": {
            "text/plain": [
              "'December-October-August-June-April-February'"
            ],
            "application/vnd.google.colaboratory.intrinsic+json": {
              "type": "string"
            }
          },
          "metadata": {},
          "execution_count": 79
        }
      ]
    },
    {
      "cell_type": "code",
      "source": [
        "sorted(months)"
      ],
      "metadata": {
        "colab": {
          "base_uri": "https://localhost:8080/"
        },
        "id": "FGpWQS9mqKtr",
        "outputId": "602de69f-cd9f-404b-d305-86b2b8a157ee"
      },
      "execution_count": null,
      "outputs": [
        {
          "output_type": "execute_result",
          "data": {
            "text/plain": [
              "['April',\n",
              " 'August',\n",
              " 'December',\n",
              " 'February',\n",
              " 'January',\n",
              " 'July',\n",
              " 'June',\n",
              " 'March',\n",
              " 'May',\n",
              " 'November',\n",
              " 'October',\n",
              " 'September']"
            ]
          },
          "metadata": {},
          "execution_count": 80
        }
      ]
    },
    {
      "cell_type": "code",
      "source": [
        "sorted(months)[:3]"
      ],
      "metadata": {
        "colab": {
          "base_uri": "https://localhost:8080/"
        },
        "id": "V4MtkWgSqYIa",
        "outputId": "8dfaaef5-569e-43c2-94d5-e78d8bda4612"
      },
      "execution_count": null,
      "outputs": [
        {
          "output_type": "execute_result",
          "data": {
            "text/plain": [
              "['April', 'August', 'December']"
            ]
          },
          "metadata": {},
          "execution_count": 81
        }
      ]
    },
    {
      "cell_type": "code",
      "source": [
        "sorted(months[:3])"
      ],
      "metadata": {
        "colab": {
          "base_uri": "https://localhost:8080/"
        },
        "id": "BJ01MFsRqrNz",
        "outputId": "a4386c2c-e86b-424c-df03-64508f2bb690"
      },
      "execution_count": null,
      "outputs": [
        {
          "output_type": "execute_result",
          "data": {
            "text/plain": [
              "['February', 'January', 'March']"
            ]
          },
          "metadata": {},
          "execution_count": 82
        }
      ]
    },
    {
      "cell_type": "code",
      "source": [
        "# QUESTION 9\n",
        "\n",
        "# Score Board ordered as high scores. Find the position of \"Tuna\". And change the Tuna's position to first.\n",
        "score_board = [\"Yeliz\",\"Ahmet\",\"Cagri\",\"Tuna\",\"Alp\"]"
      ],
      "metadata": {
        "id": "EPxoqTsqqxni"
      },
      "execution_count": null,
      "outputs": []
    },
    {
      "cell_type": "code",
      "source": [
        "index = score_board.index(\"Tuna\")\n",
        "index"
      ],
      "metadata": {
        "colab": {
          "base_uri": "https://localhost:8080/"
        },
        "id": "QhhLb47irBMe",
        "outputId": "9a28f264-4014-42c7-8aa3-10acb21f6edc"
      },
      "execution_count": null,
      "outputs": [
        {
          "output_type": "execute_result",
          "data": {
            "text/plain": [
              "3"
            ]
          },
          "metadata": {},
          "execution_count": 84
        }
      ]
    },
    {
      "cell_type": "code",
      "source": [
        "temp = score_board[index]\n",
        "temp"
      ],
      "metadata": {
        "colab": {
          "base_uri": "https://localhost:8080/",
          "height": 35
        },
        "id": "-sa2bkubrIcy",
        "outputId": "e374f2ff-f111-4087-ae0b-d834996f7c2b"
      },
      "execution_count": null,
      "outputs": [
        {
          "output_type": "execute_result",
          "data": {
            "text/plain": [
              "'Tuna'"
            ],
            "application/vnd.google.colaboratory.intrinsic+json": {
              "type": "string"
            }
          },
          "metadata": {},
          "execution_count": 85
        }
      ]
    },
    {
      "cell_type": "code",
      "source": [
        "score_board.pop(index)\n",
        "score_board"
      ],
      "metadata": {
        "colab": {
          "base_uri": "https://localhost:8080/"
        },
        "id": "B1jwHU-4rVgB",
        "outputId": "39c474d8-41fa-45f5-d4f6-bdc36221ecaa"
      },
      "execution_count": null,
      "outputs": [
        {
          "output_type": "execute_result",
          "data": {
            "text/plain": [
              "['Yeliz', 'Ahmet', 'Cagri', 'Alp']"
            ]
          },
          "metadata": {},
          "execution_count": 86
        }
      ]
    },
    {
      "cell_type": "code",
      "source": [
        "score_board.insert(0, temp)\n",
        "score_board"
      ],
      "metadata": {
        "colab": {
          "base_uri": "https://localhost:8080/"
        },
        "id": "wgaY93F3rgcF",
        "outputId": "f24a6ff3-e385-4b32-c702-f775149f949f"
      },
      "execution_count": null,
      "outputs": [
        {
          "output_type": "execute_result",
          "data": {
            "text/plain": [
              "['Tuna', 'Yeliz', 'Ahmet', 'Cagri', 'Alp']"
            ]
          },
          "metadata": {},
          "execution_count": 87
        }
      ]
    },
    {
      "cell_type": "code",
      "source": [
        "# QUESTION 10\n",
        "\n",
        "# dictionary \"days\" contains 5 week-days and lectures for each day. Print Tuesday's lecture.\n",
        "days = {\n",
        "    \"Monday\": \"Calculus\",\n",
        "    \"Tuesday\": \"Int. Data Science\",\n",
        "    \"Wednesday\": \"Statistics\",\n",
        "    \"Thursday\": \"Modern Art\",\n",
        "    \"Friday\": \"Advanced Programming\"\n",
        "}\n",
        "days"
      ],
      "metadata": {
        "colab": {
          "base_uri": "https://localhost:8080/"
        },
        "id": "RI146CVMsJZi",
        "outputId": "8534ccfd-fa54-48b8-e42e-f239affd305e"
      },
      "execution_count": null,
      "outputs": [
        {
          "output_type": "execute_result",
          "data": {
            "text/plain": [
              "{'Monday': 'Calculus',\n",
              " 'Tuesday': 'Int. Data Science',\n",
              " 'Wednesday': 'Statistics',\n",
              " 'Thursday': 'Modern Art',\n",
              " 'Friday': 'Advanced Programming'}"
            ]
          },
          "metadata": {},
          "execution_count": 88
        }
      ]
    },
    {
      "cell_type": "code",
      "source": [
        "days[\"Tuesday\"]"
      ],
      "metadata": {
        "colab": {
          "base_uri": "https://localhost:8080/",
          "height": 35
        },
        "id": "D2pXo70ksd9L",
        "outputId": "6d2e5f46-634f-4b55-ce21-beea7bdd1acf"
      },
      "execution_count": null,
      "outputs": [
        {
          "output_type": "execute_result",
          "data": {
            "text/plain": [
              "'Int. Data Science'"
            ],
            "application/vnd.google.colaboratory.intrinsic+json": {
              "type": "string"
            }
          },
          "metadata": {},
          "execution_count": 89
        }
      ]
    },
    {
      "cell_type": "code",
      "source": [
        "# QUESTION 11\n",
        "\n",
        "# dictionary \"scores\" contains three different students grades. Print max grade of Anil\n",
        "scores = {\n",
        "    \"Alp\":[46,89,100],\n",
        "    \"Irem\":[34,90,89],\n",
        "    \"Anil\":[10,68,65]\n",
        "}\n",
        "print(max(scores[\"Alp\"]))\n",
        "min(scores[\"Alp\"])"
      ],
      "metadata": {
        "colab": {
          "base_uri": "https://localhost:8080/"
        },
        "id": "JxgkFFrWs3R-",
        "outputId": "eea6f3a3-6460-4a10-fdcd-9fdcd74a8ea1"
      },
      "execution_count": null,
      "outputs": [
        {
          "output_type": "stream",
          "name": "stdout",
          "text": [
            "100\n"
          ]
        },
        {
          "output_type": "execute_result",
          "data": {
            "text/plain": [
              "46"
            ]
          },
          "metadata": {},
          "execution_count": 92
        }
      ]
    },
    {
      "cell_type": "code",
      "source": [
        "# QUESTION 12\n",
        "\n",
        "# dictionary \"scores\" contains three different students grades.\n",
        "# Using \"scores\" dictionary, create dictionary called \"min_scores\", which keys are students and values are minimum grades\n",
        "scores = {\n",
        "    \"Alp\":[46,89,100],\n",
        "    \"Irem\":[34,90,89],\n",
        "    \"Anil\":[10,68,65]\n",
        "}\n",
        "\n",
        "# Solution\n",
        "min_scores = {\n",
        "    \"Alp\": min(scores[\"Alp\"]),\n",
        "    \"Irem\": min(scores[\"Irem\"]),\n",
        "    \"Anil\": min(scores[\"Anil\"])\n",
        "}\n",
        "\n",
        "min_scores"
      ],
      "metadata": {
        "colab": {
          "base_uri": "https://localhost:8080/"
        },
        "id": "1mBPU_sJtULK",
        "outputId": "cdbdb524-43f8-4f94-f4a1-0a858955dc64"
      },
      "execution_count": null,
      "outputs": [
        {
          "output_type": "execute_result",
          "data": {
            "text/plain": [
              "{'Alp': 46, 'Irem': 34, 'Anil': 10}"
            ]
          },
          "metadata": {},
          "execution_count": 93
        }
      ]
    },
    {
      "cell_type": "code",
      "source": [
        "# QUESTION 13\n",
        "\n",
        "# dictionary items hold item ids as keys and properties as values\n",
        "# ids list contains product ids\n",
        "# find the greatest id in ids list and print its stock value\n",
        "\n",
        "ids = [83,98,67]\n",
        "items = {\n",
        "    83 : {\n",
        "        \"stock\": 100,\n",
        "        \"price\": 89.08\n",
        "    },\n",
        "    98 : {\n",
        "        \"stock\": 7546,\n",
        "        \"price\": 23.12\n",
        "    },\n",
        "    67 : {\n",
        "        \"stock\": 0,\n",
        "        \"price\": 4.5\n",
        "    }\n",
        "}\n",
        "max_id = max(ids)\n",
        "items[max_id][\"stock\"]"
      ],
      "metadata": {
        "colab": {
          "base_uri": "https://localhost:8080/"
        },
        "id": "HPeYA0L0uBo6",
        "outputId": "d8d6e34f-6f8c-4c1c-9ab4-c5279b4a5a1c"
      },
      "execution_count": null,
      "outputs": [
        {
          "output_type": "execute_result",
          "data": {
            "text/plain": [
              "7546"
            ]
          },
          "metadata": {},
          "execution_count": 94
        }
      ]
    },
    {
      "cell_type": "code",
      "source": [
        "# QUESTION 14\n",
        "\n",
        "# dictionary items hold item ids as keys and properties as values\n",
        "# ids list contains product ids\n",
        "# find the smallest id in ids list and calculate max money you can get by selling all the stock\n",
        "# if you make 35% discount, calculate new result\n",
        "# print results in format \"Max Money: ... , With Discount: ...\""
      ],
      "metadata": {
        "id": "o0n7mF8zuntN"
      },
      "execution_count": null,
      "outputs": []
    }
  ]
}